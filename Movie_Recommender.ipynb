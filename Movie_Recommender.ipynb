{
 "cells": [
  {
   "cell_type": "markdown",
   "metadata": {},
   "source": [
    "# The goal of this analysis is to build a content based recommender system"
   ]
  },
  {
   "cell_type": "code",
   "execution_count": 1,
   "metadata": {},
   "outputs": [],
   "source": [
    "# import necessary libraries\n",
    "import pandas as pd\n",
    "\n",
    "from sklearn.metrics.pairwise import cosine_similarity"
   ]
  },
  {
   "cell_type": "code",
   "execution_count": 2,
   "metadata": {},
   "outputs": [],
   "source": [
    "# I acquired this dataset myself from the IMDB website using a selenium webscraper\n",
    "svd_df = pd.read_pickle('Pickles/tfidf_df.pkl')\n",
    "actor_df = pd.read_pickle('Pickles/actor_df.pkl')\n",
    "director_df = pd.read_pickle('Pickles/director_df.pkl')\n",
    "genre_df = pd.read_pickle('Pickles/genre_df.pkl')\n",
    "prodcom_df = pd.read_pickle('Pickles/prodcom_df.pkl')\n",
    "\n",
    "df = pd.merge(svd_df, genre_df, on='Title', how='outer')\n",
    "df = pd.merge(df, director_df, on='Title', how='outer')\n",
    "df = pd.merge(df, actor_df, on='Title', how='outer')\n",
    "df = pd.merge(df, prodcom_df, on='Title', how='outer')"
   ]
  },
  {
   "cell_type": "code",
   "execution_count": 3,
   "metadata": {},
   "outputs": [
    {
     "name": "stdout",
     "output_type": "stream",
     "text": [
      "Total samples: 1708 | Total features 11229\n",
      "Rows with NA: 0\n"
     ]
    }
   ],
   "source": [
    "print('Total samples: {s} | Total features {f}'.format(s=len(df), f=df.shape[1]))\n",
    "print(\"Rows with NA: {n}\".format(n=len(df[df.isnull().any(axis=1)])))"
   ]
  },
  {
   "cell_type": "markdown",
   "metadata": {},
   "source": [
    "# Show most similar movies to any given movie"
   ]
  },
  {
   "cell_type": "code",
   "execution_count": 4,
   "metadata": {},
   "outputs": [],
   "source": [
    "# calculate cosine similarity matrix of movies\n",
    "titles = df['Title']\n",
    "matrix_df = df.drop(['Title'], axis=1)\n",
    "\n",
    "cos_sim_matrix = cosine_similarity(matrix_df, matrix_df)\n",
    "\n",
    "cos_sim_df = pd.DataFrame(cos_sim_matrix, columns = titles)\n",
    "cos_sim_df['Title'] = titles"
   ]
  },
  {
   "cell_type": "code",
   "execution_count": 5,
   "metadata": {},
   "outputs": [],
   "source": [
    "def display_top_movies(movie_title, n_movies, similarity_matrix_df):\n",
    "    \n",
    "    ordered_index_series = similarity_matrix_df[movie_title].sort_values(ascending=False) # access the movie's column and sort the values in it\n",
    "    \n",
    "    top_series = ordered_index_series[1:n_movies+1] # remove the first value, it is the similarity to itself (1)\n",
    "\n",
    "    print(movie_title, '\\n---------------------------------------')\n",
    "    for i,v in top_series.items(): # iterate through items in series, print movie title and similarity to our chosen movie\n",
    "        print((similarity_matrix_df.iloc[i]['Title']).ljust(40,' '), ' :', round(v, 4))\n",
    "        "
   ]
  },
  {
   "cell_type": "code",
   "execution_count": 6,
   "metadata": {},
   "outputs": [
    {
     "name": "stdout",
     "output_type": "stream",
     "text": [
      "Toy Story 2 (1999) \n",
      "---------------------------------------\n",
      "Toy Story (1995)                          : 0.7987\n",
      "Toy Story 3 (2010)                        : 0.6999\n",
      "A Bug's Life (1998)                       : 0.3232\n",
      "Brave (2012)                              : 0.3147\n",
      "Cars (2006)                               : 0.3074\n",
      "Up (2009)                                 : 0.29\n",
      "Monsters, Inc. (2001)                     : 0.2843\n",
      "WALL·E (2008)                             : 0.2812\n",
      "Cars 2 (2011)                             : 0.2727\n",
      "Ratatouille (2007)                        : 0.2688\n"
     ]
    }
   ],
   "source": [
    "display_top_movies(movie_title = 'Toy Story 2 (1999)',\n",
    "                   n_movies = 10,\n",
    "                   similarity_matrix_df = cos_sim_df)"
   ]
  },
  {
   "cell_type": "code",
   "execution_count": 7,
   "metadata": {},
   "outputs": [
    {
     "name": "stdout",
     "output_type": "stream",
     "text": [
      "Avengers: Endgame (2019) \n",
      "---------------------------------------\n",
      "Avengers: Infinity War (2018)             : 0.7415\n",
      "Captain America: Civil War (2016)         : 0.518\n",
      "Avengers: Age of Ultron (2015)            : 0.4528\n",
      "Avengers Assemble (2012)                  : 0.4168\n",
      "Captain America: The Winter Soldier (2014)  : 0.2381\n",
      "Iron Man 2 (2010)                         : 0.2381\n",
      "Thor: Ragnarok (2017)                     : 0.2345\n",
      "Spider-Man: Homecoming (2017)             : 0.1932\n",
      "Ant-Man and the Wasp (2018)               : 0.1886\n",
      "Guardians of the Galaxy: Vol. 2 (2017)    : 0.185\n"
     ]
    }
   ],
   "source": [
    "display_top_movies(movie_title = 'Avengers: Endgame (2019)',\n",
    "                   n_movies = 10,\n",
    "                   similarity_matrix_df = cos_sim_df)"
   ]
  },
  {
   "cell_type": "code",
   "execution_count": 8,
   "metadata": {},
   "outputs": [
    {
     "name": "stdout",
     "output_type": "stream",
     "text": [
      "Pulp Fiction (1994) \n",
      "---------------------------------------\n",
      "Jackie Brown (1997)                       : 0.2843\n",
      "Kill Bill: Vol. 1 (2003)                  : 0.2475\n",
      "Kill Bill: Vol. 2 (2004)                  : 0.2085\n",
      "Fight Club (1999)                         : 0.205\n",
      "The Hateful Eight (2015)                  : 0.1936\n",
      "The Dark Knight (2008)                    : 0.1779\n",
      "Inception (2010)                          : 0.1728\n",
      "The Whole Nine Yards (2000)               : 0.1727\n",
      "Hostage (2005)                            : 0.1578\n",
      "Unbreakable (2000)                        : 0.151\n"
     ]
    }
   ],
   "source": [
    "display_top_movies(movie_title = 'Pulp Fiction (1994)',\n",
    "                   n_movies = 10,\n",
    "                   similarity_matrix_df = cos_sim_df)"
   ]
  },
  {
   "cell_type": "code",
   "execution_count": 9,
   "metadata": {},
   "outputs": [
    {
     "name": "stdout",
     "output_type": "stream",
     "text": [
      "Harry Potter and the Half-Blood Prince (2009) \n",
      "---------------------------------------\n",
      "Harry Potter and the Deathly Hallows: Part 1 (2010)  : 0.4533\n",
      "Harry Potter and the Deathly Hallows: Part 2 (2011)  : 0.43\n",
      "Harry Potter and the Chamber of Secrets (2002)  : 0.404\n",
      "Harry Potter and the Goblet of Fire (2005)  : 0.4005\n",
      "Harry Potter and the Order of the Phoenix (2007)  : 0.315\n",
      "Harry Potter and the Prisoner of Azkaban (2004)  : 0.2601\n",
      "Alice in Wonderland (2010)                : 0.2213\n",
      "Fantastic Mr. Fox (2009)                  : 0.2194\n",
      "Chicken Run (2000)                        : 0.193\n",
      "Mr. & Mrs. Smith (2005)                   : 0.1806\n"
     ]
    }
   ],
   "source": [
    "display_top_movies(movie_title = 'Harry Potter and the Half-Blood Prince (2009)',\n",
    "                   n_movies = 10,\n",
    "                   similarity_matrix_df = cos_sim_df)"
   ]
  },
  {
   "cell_type": "code",
   "execution_count": 10,
   "metadata": {},
   "outputs": [
    {
     "name": "stdout",
     "output_type": "stream",
     "text": [
      "The Social Network (2010) \n",
      "---------------------------------------\n",
      "The Pursuit of Happyness (2006)           : 0.2985\n",
      "Moneyball (2011)                          : 0.2722\n",
      "Before Sunset (2004)                      : 0.2653\n",
      "Zombieland (2009)                         : 0.2579\n",
      "Erin Brockovich (2000)                    : 0.2537\n",
      "Rocky Balboa (2006)                       : 0.2424\n",
      "Hacksaw Ridge (2016)                      : 0.2407\n",
      "Lion (2016)                               : 0.2378\n",
      "Raging Bull (1980)                        : 0.2319\n",
      "Awakenings (1990)                         : 0.2315\n"
     ]
    }
   ],
   "source": [
    "display_top_movies(movie_title = 'The Social Network (2010)',\n",
    "                   n_movies = 10,\n",
    "                   similarity_matrix_df = cos_sim_df)"
   ]
  },
  {
   "cell_type": "code",
   "execution_count": null,
   "metadata": {},
   "outputs": [],
   "source": []
  }
 ],
 "metadata": {
  "kernelspec": {
   "display_name": "Python 3",
   "language": "python",
   "name": "python3"
  },
  "language_info": {
   "codemirror_mode": {
    "name": "ipython",
    "version": 3
   },
   "file_extension": ".py",
   "mimetype": "text/x-python",
   "name": "python",
   "nbconvert_exporter": "python",
   "pygments_lexer": "ipython3",
   "version": "3.7.3"
  }
 },
 "nbformat": 4,
 "nbformat_minor": 4
}
