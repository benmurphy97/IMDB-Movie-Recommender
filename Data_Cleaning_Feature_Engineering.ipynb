{
 "cells": [
  {
   "cell_type": "markdown",
   "metadata": {},
   "source": [
    "# Data exploration and cleaning, creating features as we go"
   ]
  },
  {
   "cell_type": "code",
   "execution_count": 1,
   "metadata": {},
   "outputs": [],
   "source": [
    "# import necessary libraries\n",
    "import pandas as pd\n",
    "import numpy as np\n",
    "import matplotlib.pyplot as plt\n",
    "import seaborn as sns\n",
    "import re\n",
    "import time\n",
    "\n",
    "# nltk for natural language processing\n",
    "import nltk\n",
    "from nltk.tokenize import word_tokenize\n",
    "from nltk.corpus import stopwords\n",
    "from nltk.stem import SnowballStemmer\n",
    "\n",
    "# sklearn \n",
    "# vectorizer\n",
    "from sklearn.feature_extraction.text import TfidfVectorizer\n",
    "from sklearn.preprocessing import MultiLabelBinarizer\n",
    "\n",
    "# dimensionality reduction\n",
    "from sklearn.decomposition import TruncatedSVD\n",
    "\n",
    "# similarity metric\n",
    "from sklearn.metrics.pairwise import cosine_similarity\n",
    "\n",
    "from sklearn.cluster import KMeans\n",
    "\n",
    "from data_visualization import plot_categorical_log"
   ]
  },
  {
   "cell_type": "code",
   "execution_count": 2,
   "metadata": {},
   "outputs": [
    {
     "data": {
      "text/plain": [
       "(1725, 14)"
      ]
     },
     "execution_count": 2,
     "metadata": {},
     "output_type": "execute_result"
    }
   ],
   "source": [
    "# I acquired this dataset myself from the IMDB website using a selenium webscraper\n",
    "# df = pd.read_csv(\"IMDB_Sept.csv\")\n",
    "df = pd.read_csv(\"IMDB_Sept.csv\")\n",
    "# drop the weird column\n",
    "df = df.drop(columns='Unnamed: 0', axis=1)\n",
    "\n",
    "df = df.loc[df['Votes'] >= 100000] # keep movies with more than 100000 votes in IMDB, keeps popular movies \n",
    "df.shape"
   ]
  },
  {
   "cell_type": "code",
   "execution_count": 4,
   "metadata": {},
   "outputs": [
    {
     "data": {
      "text/html": [
       "<div>\n",
       "<style scoped>\n",
       "    .dataframe tbody tr th:only-of-type {\n",
       "        vertical-align: middle;\n",
       "    }\n",
       "\n",
       "    .dataframe tbody tr th {\n",
       "        vertical-align: top;\n",
       "    }\n",
       "\n",
       "    .dataframe thead th {\n",
       "        text-align: right;\n",
       "    }\n",
       "</style>\n",
       "<table border=\"1\" class=\"dataframe\">\n",
       "  <thead>\n",
       "    <tr style=\"text-align: right;\">\n",
       "      <th></th>\n",
       "      <th>Actors</th>\n",
       "      <th>Budget($)</th>\n",
       "      <th>Director</th>\n",
       "      <th>Genres</th>\n",
       "      <th>IMDB_Score</th>\n",
       "      <th>Metascore</th>\n",
       "      <th>Production_Company</th>\n",
       "      <th>Rated</th>\n",
       "      <th>Release_Date</th>\n",
       "      <th>Runtime</th>\n",
       "      <th>Storyline</th>\n",
       "      <th>Summary</th>\n",
       "      <th>Title</th>\n",
       "      <th>Votes</th>\n",
       "    </tr>\n",
       "  </thead>\n",
       "  <tbody>\n",
       "    <tr>\n",
       "      <th>3104</th>\n",
       "      <td>['Parminder Nagra', 'Keira Knightley', 'Jonath...</td>\n",
       "      <td>-1</td>\n",
       "      <td>Gurinder Chadha</td>\n",
       "      <td>['Comedy', 'Drama', 'Romance', 'Sport']</td>\n",
       "      <td>6.6</td>\n",
       "      <td>66</td>\n",
       "      <td>['Charles Chaplin Productions']</td>\n",
       "      <td>12</td>\n",
       "      <td>12 April 2002 (UK)</td>\n",
       "      <td>112</td>\n",
       "      <td>A comedy about bending the rules to reach your...</td>\n",
       "      <td>The daughter of orthodox Sikh rebels against h...</td>\n",
       "      <td>Bend It Like Beckham (2002)</td>\n",
       "      <td>100011</td>\n",
       "    </tr>\n",
       "  </tbody>\n",
       "</table>\n",
       "</div>"
      ],
      "text/plain": [
       "                                                 Actors  Budget($)  \\\n",
       "3104  ['Parminder Nagra', 'Keira Knightley', 'Jonath...         -1   \n",
       "\n",
       "             Director                                   Genres  IMDB_Score  \\\n",
       "3104  Gurinder Chadha  ['Comedy', 'Drama', 'Romance', 'Sport']         6.6   \n",
       "\n",
       "      Metascore               Production_Company Rated        Release_Date  \\\n",
       "3104         66  ['Charles Chaplin Productions']    12  12 April 2002 (UK)   \n",
       "\n",
       "     Runtime                                          Storyline  \\\n",
       "3104     112  A comedy about bending the rules to reach your...   \n",
       "\n",
       "                                                Summary  \\\n",
       "3104  The daughter of orthodox Sikh rebels against h...   \n",
       "\n",
       "                            Title   Votes  \n",
       "3104  Bend It Like Beckham (2002)  100011  "
      ]
     },
     "execution_count": 4,
     "metadata": {},
     "output_type": "execute_result"
    }
   ],
   "source": [
    "df.head(1)"
   ]
  },
  {
   "cell_type": "markdown",
   "metadata": {},
   "source": [
    "# Check for NA values"
   ]
  },
  {
   "cell_type": "code",
   "execution_count": 5,
   "metadata": {},
   "outputs": [
    {
     "name": "stdout",
     "output_type": "stream",
     "text": [
      "Number of rows with NA: 17\n",
      "Columns with NA: ['Release_Date', 'Title']\n"
     ]
    }
   ],
   "source": [
    "print(\"Number of rows with NA: {n}\".format(n=len(df[df.isna().any(axis=1)])))\n",
    "print(\"Columns with NA: {n}\".format(n=df.columns[df.isna().any()].tolist()))"
   ]
  },
  {
   "cell_type": "markdown",
   "metadata": {},
   "source": [
    "- The NA values are present because of the scraping process, our scraper couldn't find a title or release date for these movies. \n",
    "- Because there are so few of them, we will just drop the rows that contain NA values"
   ]
  },
  {
   "cell_type": "code",
   "execution_count": 6,
   "metadata": {},
   "outputs": [
    {
     "data": {
      "text/plain": [
       "(1708, 14)"
      ]
     },
     "execution_count": 6,
     "metadata": {},
     "output_type": "execute_result"
    }
   ],
   "source": [
    "df = df.dropna() # drop rows withNA values from df\n",
    "titles = df.Title.tolist() # store titles of movies as a list for later on\n",
    "df.shape"
   ]
  },
  {
   "cell_type": "markdown",
   "metadata": {},
   "source": [
    "# Genre"
   ]
  },
  {
   "cell_type": "code",
   "execution_count": 7,
   "metadata": {},
   "outputs": [
    {
     "name": "stdout",
     "output_type": "stream",
     "text": [
      "['Comedy', 'Drama', 'Romance', 'Sport']\n",
      "<class 'str'>\n"
     ]
    }
   ],
   "source": [
    "print(df.Genres.iloc[0])\n",
    "print(type(df.Genres.iloc[0]))"
   ]
  },
  {
   "cell_type": "markdown",
   "metadata": {},
   "source": [
    "- The genre column looks like a list but it is a string\n",
    "- We want a list so we will have to clean it up\n",
    "- We will create new column, count of genres in each movie\n",
    "- Display the most popular genres"
   ]
  },
  {
   "cell_type": "code",
   "execution_count": 10,
   "metadata": {},
   "outputs": [
    {
     "name": "stdout",
     "output_type": "stream",
     "text": [
      "Example of cleaned genres: ['Comedy', 'Drama', 'Romance', 'Sport']\n",
      "\n",
      "Number of different genres: 21\n",
      "\n",
      "Top 1 genre: Drama: count: 801\n",
      "Top 2 genre: Action: count: 609\n",
      "Top 3 genre: Thriller: count: 587\n",
      "Top 4 genre: Comedy: count: 523\n",
      "Top 5 genre: Adventure: count: 502\n"
     ]
    },
    {
     "data": {
      "image/png": "[encoded data removed]",
      "text/plain": [
       "<Figure size 432x288 with 1 Axes>"
      ]
     },
     "metadata": {
      "needs_background": "light"
     },
     "output_type": "display_data"
    }
   ],
   "source": [
    "# apply the regex to all rows in our dataset\n",
    "df['Genres_clean'] = [re.findall(r'[A-Z][A-z- ]+', genre_string) for genre_string in df.Genres] # Use a regex findall to convert our string to a list\n",
    "# df['Number_of_genres'] = df['Genres_clean'].apply(lambda genre_list: len(genre_list)) # Create column with number of genres in each movie\n",
    "\n",
    "print(\"Example of cleaned genres: {n}\\n\".format(n=df['Genres_clean'].iloc[0]))\n",
    "\n",
    "genres_expanded = pd.Series([genre for row in df.Genres_clean for genre in row]) # expand our genres column, turning a list of lists into one long pandas series\n",
    "print(\"Number of different genres: {n}\\n\".format(n=len(genres_expanded.unique())))\n",
    "\n",
    "counts_per_genre = genres_expanded.value_counts(sort=True) # get value counts of our expanded genres series\n",
    "\n",
    "# print top 5 genres\n",
    "for i in range(5):\n",
    "    print(\"Top {i} genre: {name}: count: {num}\".format(i=i+1, \n",
    "                                                       name=counts_per_genre.index.tolist()[i], \n",
    "                                                       num=counts_per_genre.tolist()[i]))\n",
    "\n",
    "# call function from data_visualization.py\n",
    "plot_categorical_log(counts_per_genre, \"Genre\")"
   ]
  },
  {
   "cell_type": "markdown",
   "metadata": {},
   "source": [
    "## The IMDB website describes genres as either subjective or objective. \n",
    "###### https://help.imdb.com/article/contribution/titles/genres/GZDRMS6R742JRGAG?ref_=helpart_nav_31#\n",
    "\n",
    "I will encode the Objective genres with binary values. They include; Animation, Biography, Documentary, Family, Film-Noir, History, Musical, News, Reality-TV, Short, Sport, Talk-Show, War, Western. \n",
    "- A movie listed as 'Biography' will receive a value of 1 in the Biography column\n",
    "- A movie listed as 'Biography'and 'War' will receive a value of 1 in the Biography and War columns\n",
    "\n",
    "I will encode the Subjective genres with a weighted value depending on how many subjective genres are listed with the movie. They include; Drama, Comedy, Thriller, Action, Romance, Crime, Sci-Fi, Fantasy, Mystery, Horror, Music\n",
    "- A movie listed as only 'Drama' will receive a value of 1.0 in the Drama column.\n",
    "- A movie listed as 'Drama' and 'Romance' will receive a value of 0.5 in the respective column.\n",
    "- A movie listed as 'Biography', 'Drama' and 'Romance' will receive a value of 1 for Biography(Objective) and a value of 0.5 in 'Drama' and 'Romance'"
   ]
  },
  {
   "cell_type": "code",
   "execution_count": 11,
   "metadata": {},
   "outputs": [
    {
     "data": {
      "text/html": [
       "<div>\n",
       "<style scoped>\n",
       "    .dataframe tbody tr th:only-of-type {\n",
       "        vertical-align: middle;\n",
       "    }\n",
       "\n",
       "    .dataframe tbody tr th {\n",
       "        vertical-align: top;\n",
       "    }\n",
       "\n",
       "    .dataframe thead th {\n",
       "        text-align: right;\n",
       "    }\n",
       "</style>\n",
       "<table border=\"1\" class=\"dataframe\">\n",
       "  <thead>\n",
       "    <tr style=\"text-align: right;\">\n",
       "      <th></th>\n",
       "      <th>Genres_clean</th>\n",
       "      <th>objective_genres</th>\n",
       "      <th>subjective_genres</th>\n",
       "    </tr>\n",
       "  </thead>\n",
       "  <tbody>\n",
       "    <tr>\n",
       "      <th>3104</th>\n",
       "      <td>[Comedy, Drama, Romance, Sport]</td>\n",
       "      <td>[Sport]</td>\n",
       "      <td>[Comedy, Drama, Romance]</td>\n",
       "    </tr>\n",
       "  </tbody>\n",
       "</table>\n",
       "</div>"
      ],
      "text/plain": [
       "                         Genres_clean objective_genres  \\\n",
       "3104  [Comedy, Drama, Romance, Sport]          [Sport]   \n",
       "\n",
       "             subjective_genres  \n",
       "3104  [Comedy, Drama, Romance]  "
      ]
     },
     "execution_count": 11,
     "metadata": {},
     "output_type": "execute_result"
    }
   ],
   "source": [
    "# Split the genres column into subjective and objective columns\n",
    "\n",
    "# initialise our objective and subjetive genre lists\n",
    "obj = ['Animation', 'Biography', 'Documentary', 'Family', 'Film-Noir', 'History', 'Musical',\n",
    "       'News', 'Reality-TV', 'Short', 'Sport', 'Talk-Show', 'War', 'Western']\n",
    "\n",
    "subj = ['Drama', 'Comedy', 'Thriller', 'Action', 'Romance', 'Crime',\n",
    "        'Sci-Fi', 'Fantasy', 'Mystery', 'Horror', 'Music']\n",
    "\n",
    "# methods to split the genres column into subjective and objective columns respectively\n",
    "# I had issue with creating two columns in the df with one method so I had to seperate them\n",
    "def split_genres_obj(genres):\n",
    "    obj_g = []\n",
    "    \n",
    "    for g in genres:\n",
    "        if g in obj:\n",
    "            obj_g.append(g)\n",
    "    return obj_g\n",
    "\n",
    "def split_genres_subj(genres):\n",
    "    subj_g = []\n",
    "    \n",
    "    for g in genres:\n",
    "        if g in subj:\n",
    "            subj_g.append(g)\n",
    "    return subj_g\n",
    "\n",
    "\n",
    "df['objective_genres'] = df.Genres_clean.apply(lambda genres: split_genres_obj(genres)) # create objective column\n",
    "df['subjective_genres'] = df.Genres_clean.apply(lambda genres: split_genres_subj(genres)) # create subjective column\n",
    "\n",
    "df['number_subjective_genres'] = df.subjective_genres.apply(lambda subjg: len(subjg)) # create column with number of subjective genres for later use\n",
    "\n",
    "df[['Genres_clean', 'objective_genres', 'subjective_genres']].head(1)"
   ]
  },
  {
   "cell_type": "markdown",
   "metadata": {},
   "source": [
    "## Encode our genres"
   ]
  },
  {
   "cell_type": "code",
   "execution_count": 12,
   "metadata": {},
   "outputs": [
    {
     "data": {
      "text/html": [
       "<div>\n",
       "<style scoped>\n",
       "    .dataframe tbody tr th:only-of-type {\n",
       "        vertical-align: middle;\n",
       "    }\n",
       "\n",
       "    .dataframe tbody tr th {\n",
       "        vertical-align: top;\n",
       "    }\n",
       "\n",
       "    .dataframe thead th {\n",
       "        text-align: right;\n",
       "    }\n",
       "</style>\n",
       "<table border=\"1\" class=\"dataframe\">\n",
       "  <thead>\n",
       "    <tr style=\"text-align: right;\">\n",
       "      <th></th>\n",
       "      <th>Animation</th>\n",
       "      <th>Biography</th>\n",
       "      <th>Family</th>\n",
       "      <th>Film-Noir</th>\n",
       "      <th>History</th>\n",
       "      <th>Musical</th>\n",
       "      <th>Sport</th>\n",
       "      <th>War</th>\n",
       "      <th>Western</th>\n",
       "      <th>Action</th>\n",
       "      <th>...</th>\n",
       "      <th>Crime</th>\n",
       "      <th>Drama</th>\n",
       "      <th>Fantasy</th>\n",
       "      <th>Horror</th>\n",
       "      <th>Music</th>\n",
       "      <th>Mystery</th>\n",
       "      <th>Romance</th>\n",
       "      <th>Sci-Fi</th>\n",
       "      <th>Thriller</th>\n",
       "      <th>Title</th>\n",
       "    </tr>\n",
       "  </thead>\n",
       "  <tbody>\n",
       "    <tr>\n",
       "      <th>3104</th>\n",
       "      <td>0</td>\n",
       "      <td>0</td>\n",
       "      <td>0</td>\n",
       "      <td>0</td>\n",
       "      <td>0</td>\n",
       "      <td>0</td>\n",
       "      <td>1</td>\n",
       "      <td>0</td>\n",
       "      <td>0</td>\n",
       "      <td>0.0</td>\n",
       "      <td>...</td>\n",
       "      <td>0.0</td>\n",
       "      <td>0.333333</td>\n",
       "      <td>0.0</td>\n",
       "      <td>0.0</td>\n",
       "      <td>0.0</td>\n",
       "      <td>0.0</td>\n",
       "      <td>0.333333</td>\n",
       "      <td>0.0</td>\n",
       "      <td>0.0</td>\n",
       "      <td>Bend It Like Beckham (2002)</td>\n",
       "    </tr>\n",
       "  </tbody>\n",
       "</table>\n",
       "<p>1 rows × 21 columns</p>\n",
       "</div>"
      ],
      "text/plain": [
       "      Animation  Biography  Family  Film-Noir  History  Musical  Sport  War  \\\n",
       "3104          0          0       0          0        0        0      1    0   \n",
       "\n",
       "      Western  Action  ...  Crime     Drama  Fantasy  Horror  Music  Mystery  \\\n",
       "3104        0     0.0  ...    0.0  0.333333      0.0     0.0    0.0      0.0   \n",
       "\n",
       "       Romance  Sci-Fi  Thriller                        Title  \n",
       "3104  0.333333     0.0       0.0  Bend It Like Beckham (2002)  \n",
       "\n",
       "[1 rows x 21 columns]"
      ]
     },
     "execution_count": 12,
     "metadata": {},
     "output_type": "execute_result"
    }
   ],
   "source": [
    "from sklearn.preprocessing import MultiLabelBinarizer\n",
    "mlb = MultiLabelBinarizer()\n",
    "\n",
    "# Enocde the objective genres with values of 1 and 0\n",
    "obj_genre_df = pd.DataFrame(mlb.fit_transform(df.objective_genres),\n",
    "                          columns=mlb.classes_,\n",
    "                          index=df.index)\n",
    "\n",
    "# Enocde the subjective genres with weighted values\n",
    "subj_genre_df = pd.DataFrame(mlb.fit_transform(df.subjective_genres),\n",
    "                          columns=mlb.classes_,\n",
    "                          index=df.index)\n",
    "\n",
    "subj_genre_df['count'] = df['number_subjective_genres']\n",
    "subj_genre_df = subj_genre_df.loc[:,\"Action\":\"Thriller\"].div(subj_genre_df[\"count\"], axis=0)\n",
    "# subj_genre_df = subj_genre_df.div(subj_genre_df[\"count\"], axis=0)\n",
    "\n",
    "genre_df = pd.concat([obj_genre_df,subj_genre_df], axis=1)\n",
    "genre_df['Title'] = df['Title']\n",
    "genre_df = genre_df.fillna(0) # some movies get na values when we divided by a count of 0 for subjective genres\n",
    "genre_df.head(1)"
   ]
  },
  {
   "cell_type": "code",
   "execution_count": 13,
   "metadata": {},
   "outputs": [
    {
     "name": "stdout",
     "output_type": "stream",
     "text": [
      "NA values: 0\n"
     ]
    }
   ],
   "source": [
    "print(\"NA values: {n}\".format(n=len(genre_df[genre_df.isnull().any(axis=1)])))"
   ]
  },
  {
   "cell_type": "code",
   "execution_count": 14,
   "metadata": {},
   "outputs": [],
   "source": [
    "# save df for future use\n",
    "genre_df.to_pickle('Pickles/genre_df.pkl')"
   ]
  },
  {
   "cell_type": "markdown",
   "metadata": {},
   "source": [
    "# Production_Company"
   ]
  },
  {
   "cell_type": "code",
   "execution_count": 18,
   "metadata": {},
   "outputs": [
    {
     "name": "stdout",
     "output_type": "stream",
     "text": [
      "['Charles Chaplin Productions']\n",
      "<class 'str'>\n"
     ]
    }
   ],
   "source": [
    "print(df['Production_Company'].iloc[0])\n",
    "print(type(df['Production_Company'].iloc[0]))"
   ]
  },
  {
   "cell_type": "markdown",
   "metadata": {},
   "source": [
    "- The Production_Company column contains a string but we want a list"
   ]
  },
  {
   "cell_type": "code",
   "execution_count": 45,
   "metadata": {},
   "outputs": [
    {
     "name": "stdout",
     "output_type": "stream",
     "text": [
      "Example of cleaned production company: ['Charles Chaplin Productions']\n",
      "Number of production companies: 941\n",
      "\n",
      "Top 1 production company: Universal Pictures: count: 189\n",
      "Top 2 production company: Columbia Pictures: count: 153\n",
      "Top 3 production company: Paramount Pictures: count: 148\n",
      "Top 4 production company: Twentieth Century Fox: count: 139\n",
      "Top 5 production company: Walt Disney Pictures: count: 118\n"
     ]
    },
    {
     "data": {
      "image/png": "[encoded data removed]",
      "text/plain": [
       "<Figure size 432x288 with 1 Axes>"
      ]
     },
     "metadata": {
      "needs_background": "light"
     },
     "output_type": "display_data"
    }
   ],
   "source": [
    "# apply the regex to all rows in our dataset\n",
    "df['Prod_Comp_clean'] = [re.findall(r'[A-Z][A-z- ]+', pc) for pc in df.Production_Company]\n",
    "df['Prod_Comp_clean'].head(1)\n",
    "\n",
    "# apply the regex to all rows in our dataset\n",
    "df['Prod_Comp_clean'] = [re.findall(r'[A-Z][A-z- ]+', pc_string) for pc_string in df.Production_Company]\n",
    "\n",
    "print(\"Example of cleaned production company: {n}\".format(n=df['Prod_Comp_clean'].iloc[0]))\n",
    "\n",
    "pc_expanded = pd.Series([pc for row in df.Prod_Comp_clean for pc in row])\n",
    "print(\"Number of production companies: {n}\\n\".format(n=len(pc_expanded.unique())))\n",
    "\n",
    "counts_per_pc = pc_expanded.value_counts(sort=True)\n",
    "\n",
    "for i in range(5):\n",
    "    print(\"Top {i} production company: {name}: count: {num}\".format(i=i+1, \n",
    "                                                       name=counts_per_pc.index.tolist()[i], \n",
    "                                                       num=counts_per_pc.tolist()[i]))\n",
    "\n",
    "# call function from data_visualization.py\n",
    "plot_categorical_log(counts_per_pc, 'Production Company')"
   ]
  },
  {
   "cell_type": "code",
   "execution_count": 54,
   "metadata": {},
   "outputs": [
    {
     "name": "stdout",
     "output_type": "stream",
     "text": [
      "Movie with no production company represented: 3.0%\n",
      "(1708, 3711)\n"
     ]
    }
   ],
   "source": [
    "# use MultiLabelBinarizer to one hot encode values in a list \n",
    "\n",
    "mlb = MultiLabelBinarizer()\n",
    "prodcom_df = pd.DataFrame(mlb.fit_transform(df.Prod_Comp_clean),\n",
    "                          columns=mlb.classes_,\n",
    "                          index=df.index)\n",
    "\n",
    "# we will remove the production companies with only 1 movie, won't be useful for similarity metrics\n",
    "first_single_count_pc = np.where(counts_per_pc==1)[0].min()\n",
    "\n",
    "pc_to_keep = counts_per_pc[0:first_single_count_pc].index.tolist() # we are keeping the production companies with >1 movie\n",
    "\n",
    "prodcom_df = prodcom_df[pc_to_keep] # filter out ones we don't want\n",
    "\n",
    "# for every row in our dataframe, check if the sum of values in row equals 0, this indicates that there is no production company for this movie\n",
    "num_prodcom = len([i for i in prodcom_df.sum(axis = 1, skipna = True).tolist() if i==0]) # i==0 returns movies without a production company in top 200\n",
    "prodcom_df['Title'] = titles\n",
    "\n",
    "print(\"Movie with no production company represented: {p}%\".format(p=100*(round(num_prodcom/len(prodcom_df), 3))))\n",
    "print(actor_df.shape)"
   ]
  },
  {
   "cell_type": "code",
   "execution_count": 30,
   "metadata": {},
   "outputs": [],
   "source": [
    "prodcom_df.to_pickle('Pickles/prodcom_df.pkl')"
   ]
  },
  {
   "cell_type": "markdown",
   "metadata": {},
   "source": [
    "# Actor"
   ]
  },
  {
   "cell_type": "code",
   "execution_count": 32,
   "metadata": {},
   "outputs": [
    {
     "name": "stdout",
     "output_type": "stream",
     "text": [
      "['Parminder Nagra', 'Keira Knightley', 'Jonathan Rhys Meyers', 'Anupam Kher', 'Archie Panjabi', 'Shaznay Lewis', 'Frank Harper', 'Juliet Stevenson', 'Shaheen Khan', 'Ameet Chana', 'Pooja Shah', 'Pavenpreet Kaur', 'Preeya Kalidas', 'Trey Farley', 'Saraj Chaudhry']\n",
      "<class 'str'>\n"
     ]
    }
   ],
   "source": [
    "# what the column currently looks like\n",
    "print(df.Actors.iloc[0])\n",
    "print(type(df.Actors.iloc[0]))"
   ]
  },
  {
   "cell_type": "markdown",
   "metadata": {},
   "source": [
    "- The Actor column contains a string but we want a list"
   ]
  },
  {
   "cell_type": "code",
   "execution_count": 33,
   "metadata": {},
   "outputs": [
    {
     "data": {
      "text/plain": [
       "['Parminder Nagra',\n",
       " 'Keira Knightley',\n",
       " 'Jonathan Rhys Meyers',\n",
       " 'Anupam Kher',\n",
       " 'Archie Panjabi',\n",
       " 'Shaznay Lewis',\n",
       " 'Frank Harper',\n",
       " 'Juliet Stevenson',\n",
       " 'Shaheen Khan',\n",
       " 'Ameet Chana',\n",
       " 'Pooja Shah',\n",
       " 'Pavenpreet Kaur',\n",
       " 'Preeya Kalidas',\n",
       " 'Trey Farley',\n",
       " 'Saraj Chaudhry']"
      ]
     },
     "execution_count": 33,
     "metadata": {},
     "output_type": "execute_result"
    }
   ],
   "source": [
    "# apply the regex to all rows in our dataset\n",
    "df['Actors_clean'] = [re.sub(r'[\\\"\\[\\]\\']', '', actors_string).split(', ') for actors_string in df.Actors]\n",
    "df['Actors_clean'].iloc[0]"
   ]
  },
  {
   "cell_type": "markdown",
   "metadata": {},
   "source": [
    "- The Actors feature is now a series of lists, each list represents the actors in that movie. We can expand the list to see the most frequent actors"
   ]
  },
  {
   "cell_type": "code",
   "execution_count": 46,
   "metadata": {},
   "outputs": [
    {
     "data": {
      "image/png": "[encoded data removed]",
      "text/plain": [
       "<Figure size 432x288 with 1 Axes>"
      ]
     },
     "metadata": {
      "needs_background": "light"
     },
     "output_type": "display_data"
    },
    {
     "name": "stdout",
     "output_type": "stream",
     "text": [
      "Number of actors: 14378\n",
      "\n",
      "Top 1 actor: Samuel L. Jackson: count: 34\n",
      "Top 2 actor: Robert De Niro: count: 32\n",
      "Top 3 actor: Johnny Depp: count: 30\n",
      "Top 4 actor: Morgan Freeman: count: 28\n",
      "Top 5 actor: Bruce Willis: count: 27\n"
     ]
    }
   ],
   "source": [
    "actors_expanded = pd.Series([i for row in df.Actors_clean for i in row])\n",
    "counts_per_actor = actors_expanded.value_counts(sort=True)\n",
    "\n",
    "# call function from data_visualization.py\n",
    "plot_categorical_log(counts_per_actor, 'Actor')\n",
    "\n",
    "print(\"Number of actors: {num}\\n\".format(num=len(actors_expanded.unique())))\n",
    "\n",
    "for i in range(5):\n",
    "    print(\"Top {i} actor: {name}: count: {num}\".format(i=i+1, \n",
    "                                                       name=counts_per_actor.index.tolist()[i], \n",
    "                                                       num=counts_per_actor.tolist()[i]))"
   ]
  },
  {
   "cell_type": "code",
   "execution_count": 58,
   "metadata": {},
   "outputs": [
    {
     "name": "stdout",
     "output_type": "stream",
     "text": [
      "Movies with no actor represented: 1.0%\n"
     ]
    },
    {
     "data": {
      "text/plain": [
       "(1708, 3711)"
      ]
     },
     "execution_count": 58,
     "metadata": {},
     "output_type": "execute_result"
    }
   ],
   "source": [
    "mlb = MultiLabelBinarizer()\n",
    "actor_df = pd.DataFrame(mlb.fit_transform(df.Actors_clean),\n",
    "                          columns=mlb.classes_,\n",
    "                          index=df.index)\n",
    "\n",
    "# like production companies, we will remove the actors with only 1 movie\n",
    "first_single_count_actor = np.where(counts_per_actor==1)[0].min()\n",
    "\n",
    "actor_to_keep = counts_per_actor[0:first_single_count_actor].index.tolist() # we are keeping the production companies with >1 movie\n",
    "\n",
    "actor_df = actor_df[actor_to_keep] # filter out ones we don't want\n",
    "\n",
    "num_actors = len([i for i in actor_df.sum(axis = 1, skipna = True).tolist() if i==0])\n",
    "print(\"Movies with no actor represented: {p}%\".format(p=100*(round(num_actors/len(actor_df), 2))))\n",
    "\n",
    "actor_df['Title'] = titles\n",
    "actor_df.shape"
   ]
  },
  {
   "cell_type": "code",
   "execution_count": null,
   "metadata": {},
   "outputs": [],
   "source": [
    "# plot the percentage of movies covered by top n actors\n",
    "# num_actors_coverage = []\n",
    "# for n in range(1000):\n",
    "#     if n > 0:\n",
    "#         actors_to_keep = counts_per_actor[0:n].index.tolist() # we are keeping the top n actors based on their movie counts\n",
    "#         temp = actor_df[actors_to_keep] # filter out ones we don't want\n",
    "\n",
    "#         num_actors = len([i for i in temp.sum(axis = 1, skipna = True).tolist() if i>0]) # i==0 returns movies without an actor in top 200\n",
    "#         perc = 100*(round(num_actors/len(temp), 4))\n",
    "\n",
    "#         actor_coverage_dict = {'Number_of_actors': n,\n",
    "#                                'percentage_of_movies_not_covered': perc}\n",
    "\n",
    "#         num_actors_coverage.append(actor_coverage_dict)\n",
    "\n",
    "# actor_coverage_df = pd.DataFrame(num_actors_coverage)\n",
    "# del(temp)\n",
    "\n",
    "# plt.figure()\n",
    "# plt.plot(actor_coverage_df.Number_of_actors, actor_coverage_df.percentage_of_movies_not_covered)\n",
    "# plt.grid('on')\n",
    "# plt.title('Most frequent actors - coverage of movies')\n",
    "# plt.xlabel('Number of actors')\n",
    "# plt.ylabel('Percentage of movies covered')\n",
    "# plt.show()"
   ]
  },
  {
   "cell_type": "code",
   "execution_count": 49,
   "metadata": {},
   "outputs": [],
   "source": [
    "actor_df.to_pickle('Pickles/actor_df.pkl')"
   ]
  },
  {
   "cell_type": "markdown",
   "metadata": {},
   "source": [
    "# Director"
   ]
  },
  {
   "cell_type": "code",
   "execution_count": 50,
   "metadata": {},
   "outputs": [
    {
     "name": "stdout",
     "output_type": "stream",
     "text": [
      "Number of movies: 1708\n",
      "Number of director: 708\n",
      "\n",
      "Top 1 actor: Steven Spielberg: count: 23\n",
      "Top 2 actor: Ridley Scott: count: 15\n",
      "Top 3 actor: Tim Burton: count: 14\n",
      "Top 4 actor: Michael Bay: count: 13\n",
      "Top 5 actor: Robert Zemeckis: count: 13\n"
     ]
    },
    {
     "data": {
      "image/png": "[encoded data removed]",
      "text/plain": [
       "<Figure size 432x288 with 1 Axes>"
      ]
     },
     "metadata": {
      "needs_background": "light"
     },
     "output_type": "display_data"
    }
   ],
   "source": [
    "print(\"Number of movies: {num}\".format(num=len(df)))\n",
    "print(\"Number of director: {num}\\n\".format(num=len(df.Director.unique())))\n",
    "\n",
    "counts_per_director = df.Director.value_counts(sort=True)\n",
    "\n",
    "for i in range(5):\n",
    "    print(\"Top {i} actor: {name}: count: {num}\".format(i=i+1, \n",
    "                                                       name=counts_per_director.index.tolist()[i], \n",
    "                                                       num=counts_per_director.tolist()[i]))\n",
    "    \n",
    "# call function from data_visualization.py\n",
    "plot_categorical_log(counts_per_director, 'Director')"
   ]
  },
  {
   "cell_type": "code",
   "execution_count": 56,
   "metadata": {},
   "outputs": [
    {
     "name": "stdout",
     "output_type": "stream",
     "text": [
      "Movies with no director represented: 21.0%\n",
      "(1708, 357)\n"
     ]
    }
   ],
   "source": [
    "# plot the percentage of movies covered by top n actors\n",
    "\n",
    "director_df = pd.get_dummies(df.Director) # one hot encode the director column\n",
    "\n",
    "# like before, we will remove the directors with only 1 movie\n",
    "first_single_count_director = np.where(counts_per_director==1)[0].min()\n",
    "\n",
    "director_to_keep = counts_per_director[0:first_single_count_director].index.tolist() # we are keeping the directors with >1 movie\n",
    "\n",
    "director_df = director_df[director_to_keep] # filter out ones we don't want\n",
    "\n",
    "# sum over the column axis. \n",
    "num_directors = len([i for i in director_df.sum(axis = 1, skipna = True).tolist() if i==0])\n",
    "director_df['Title'] = titles\n",
    "\n",
    "print(\"Movies with no director represented: {p}%\".format(p=100*(round(num_directors/len(director_df), 2))))\n",
    "print(director_df.shape)"
   ]
  },
  {
   "cell_type": "markdown",
   "metadata": {},
   "source": [
    "- the high number of samples with no director is likely caused by our filtering out movies with less than 100000 votes on imdb. The movies with less votes are less popular and may have been directed by obscure directors"
   ]
  },
  {
   "cell_type": "code",
   "execution_count": 59,
   "metadata": {},
   "outputs": [],
   "source": [
    "director_df.to_pickle('Pickles/director_df.pkl')"
   ]
  },
  {
   "cell_type": "markdown",
   "metadata": {},
   "source": [
    "# Storyline"
   ]
  },
  {
   "cell_type": "code",
   "execution_count": 60,
   "metadata": {},
   "outputs": [
    {
     "data": {
      "image/png": "[encoded data removed]",
      "text/plain": [
       "<Figure size 1008x288 with 2 Axes>"
      ]
     },
     "metadata": {
      "needs_background": "light"
     },
     "output_type": "display_data"
    }
   ],
   "source": [
    "chars_per_storyline = [len(i) for i in df.Storyline]\n",
    "\n",
    "df['storyline_chars'] = chars_per_storyline\n",
    "\n",
    "fig, (ax1,ax2) = plt.subplots(1,2, figsize=(14, 4), sharey=False, sharex=False)  # 1 row, 2 columns\n",
    "ax1.hist(x=chars_per_storyline, bins=100)\n",
    "ax1.set_title('Histogram, characters per storyline')\n",
    "\n",
    "ax2.hist(x=chars_per_storyline, bins=100, range=(900,1050))\n",
    "ax2.set_title('Histogram, characters per storyline [cropped range]')\n",
    "\n",
    "plt.show()"
   ]
  },
  {
   "cell_type": "markdown",
   "metadata": {},
   "source": [
    "- The abrupt stop in the counts of characters in the storyline is likely due to max characters for the storyline on IMDB"
   ]
  },
  {
   "cell_type": "code",
   "execution_count": 62,
   "metadata": {},
   "outputs": [
    {
     "data": {
      "image/png": "[encoded data removed]",
      "text/plain": [
       "<Figure size 432x288 with 1 Axes>"
      ]
     },
     "metadata": {
      "needs_background": "light"
     },
     "output_type": "display_data"
    }
   ],
   "source": [
    "words_per_storyline = [len(i.split()) for i in df.Storyline]\n",
    "df['storyline_words'] = words_per_storyline\n",
    "\n",
    "plt.hist(x=words_per_storyline, bins=100)\n",
    "plt.title('Histogram, words per storyline')\n",
    "    \n",
    "plt.show()"
   ]
  },
  {
   "cell_type": "code",
   "execution_count": 63,
   "metadata": {},
   "outputs": [
    {
     "name": "stdout",
     "output_type": "stream",
     "text": [
      "Mean number of words in Storyline: 103\n",
      "Mean number of chars in Storyline: 598\n"
     ]
    }
   ],
   "source": [
    "mean_words = int(df.storyline_words.mean())\n",
    "print(\"Mean number of words in Storyline: {n}\".format(n=mean_words))\n",
    "mean_chars = int(df.storyline_chars.mean())\n",
    "print(\"Mean number of chars in Storyline: {n}\".format(n=mean_chars))"
   ]
  },
  {
   "cell_type": "markdown",
   "metadata": {},
   "source": [
    "- Nothing unusual in the distribution of the words in Storyline\n",
    "- The difference between the character and word count is interesting. The characters abruptly stop. May be due to there being lots of combinations of varaying length words to reach max characters"
   ]
  },
  {
   "cell_type": "markdown",
   "metadata": {},
   "source": [
    "## We will use the Storyline to engineer text features"
   ]
  },
  {
   "cell_type": "code",
   "execution_count": 65,
   "metadata": {},
   "outputs": [
    {
     "data": {
      "text/html": [
       "<div>\n",
       "<style scoped>\n",
       "    .dataframe tbody tr th:only-of-type {\n",
       "        vertical-align: middle;\n",
       "    }\n",
       "\n",
       "    .dataframe tbody tr th {\n",
       "        vertical-align: top;\n",
       "    }\n",
       "\n",
       "    .dataframe thead th {\n",
       "        text-align: right;\n",
       "    }\n",
       "</style>\n",
       "<table border=\"1\" class=\"dataframe\">\n",
       "  <thead>\n",
       "    <tr style=\"text-align: right;\">\n",
       "      <th></th>\n",
       "      <th>Storyline</th>\n",
       "      <th>storyline_tokens</th>\n",
       "    </tr>\n",
       "  </thead>\n",
       "  <tbody>\n",
       "    <tr>\n",
       "      <th>3104</th>\n",
       "      <td>A comedy about bending the rules to reach your...</td>\n",
       "      <td>[comedy, bending, rules, reach, goal, bend, li...</td>\n",
       "    </tr>\n",
       "  </tbody>\n",
       "</table>\n",
       "</div>"
      ],
      "text/plain": [
       "                                              Storyline  \\\n",
       "3104  A comedy about bending the rules to reach your...   \n",
       "\n",
       "                                       storyline_tokens  \n",
       "3104  [comedy, bending, rules, reach, goal, bend, li...  "
      ]
     },
     "execution_count": 65,
     "metadata": {},
     "output_type": "execute_result"
    }
   ],
   "source": [
    "# nltk.download('punkt')\n",
    "# nltk.download('stopwords')\n",
    "\n",
    "# Remove punctuation\n",
    "df['Storyline_no_punct'] = df['Storyline'].apply(lambda row: re.sub(r'[\\',.\\\"]', '', row))\n",
    "\n",
    "# tokenize\n",
    "df['storyline_tokens'] = df['Storyline_no_punct'].apply(lambda row: word_tokenize(row))\n",
    "\n",
    "# lower all the tokens\n",
    "df['storyline_tokens'] = df['storyline_tokens'].apply(lambda row: [i.lower() for i in row])\n",
    "\n",
    "# view results\n",
    "df[['Storyline', 'storyline_tokens']].iloc[0]\n",
    "\n",
    "# remove stopwords\n",
    "stop_words = stopwords.words(\"english\")\n",
    "def remove_stopwords(tokens):\n",
    "    return [word for word in tokens if word not in stop_words]\n",
    "\n",
    "df['storyline_tokens'] = df['storyline_tokens'].apply(lambda row: remove_stopwords(row))\n",
    "\n",
    "df[['Storyline', 'storyline_tokens']].head(1)"
   ]
  },
  {
   "cell_type": "markdown",
   "metadata": {},
   "source": [
    "## Stemming"
   ]
  },
  {
   "cell_type": "code",
   "execution_count": 66,
   "metadata": {},
   "outputs": [
    {
     "data": {
      "text/html": [
       "<div>\n",
       "<style scoped>\n",
       "    .dataframe tbody tr th:only-of-type {\n",
       "        vertical-align: middle;\n",
       "    }\n",
       "\n",
       "    .dataframe tbody tr th {\n",
       "        vertical-align: top;\n",
       "    }\n",
       "\n",
       "    .dataframe thead th {\n",
       "        text-align: right;\n",
       "    }\n",
       "</style>\n",
       "<table border=\"1\" class=\"dataframe\">\n",
       "  <thead>\n",
       "    <tr style=\"text-align: right;\">\n",
       "      <th></th>\n",
       "      <th>Storyline</th>\n",
       "      <th>storyline_tokens_stem</th>\n",
       "    </tr>\n",
       "  </thead>\n",
       "  <tbody>\n",
       "    <tr>\n",
       "      <th>3104</th>\n",
       "      <td>A comedy about bending the rules to reach your...</td>\n",
       "      <td>[comedi, bend, rule, reach, goal, bend, like, ...</td>\n",
       "    </tr>\n",
       "  </tbody>\n",
       "</table>\n",
       "</div>"
      ],
      "text/plain": [
       "                                              Storyline  \\\n",
       "3104  A comedy about bending the rules to reach your...   \n",
       "\n",
       "                                  storyline_tokens_stem  \n",
       "3104  [comedi, bend, rule, reach, goal, bend, like, ...  "
      ]
     },
     "execution_count": 66,
     "metadata": {},
     "output_type": "execute_result"
    }
   ],
   "source": [
    "ss_en = SnowballStemmer('english')\n",
    "\n",
    "def stem_words(tokens):\n",
    "    return [ss_en.stem(i) for i in tokens]\n",
    "\n",
    "df['storyline_tokens_stem'] = df['storyline_tokens'].apply(\n",
    "                                        lambda row: stem_words(row))\n",
    "    \n",
    "df[['Storyline', 'storyline_tokens_stem']].head(1)"
   ]
  },
  {
   "cell_type": "code",
   "execution_count": 67,
   "metadata": {},
   "outputs": [],
   "source": [
    "def token_to_sentence(tokens):\n",
    "    return ' '.join(word for word in tokens)\n",
    "\n",
    "df['storyline_stem'] = df['storyline_tokens_stem'].apply(lambda row: token_to_sentence(row))"
   ]
  },
  {
   "cell_type": "code",
   "execution_count": 68,
   "metadata": {},
   "outputs": [
    {
     "name": "stdout",
     "output_type": "stream",
     "text": [
      "Rows with NA: 0:\n"
     ]
    }
   ],
   "source": [
    "print(\"Rows with NA: {n}:\".format(n=len(df[df.isnull().any(axis=1)])))"
   ]
  },
  {
   "cell_type": "markdown",
   "metadata": {},
   "source": [
    "## Vectorization"
   ]
  },
  {
   "cell_type": "code",
   "execution_count": 73,
   "metadata": {},
   "outputs": [],
   "source": [
    "text_data = df['storyline_stem']\n",
    "text_data_array = np.array(text_data)\n",
    "\n",
    "# And now testing TFIDF vectorizer:\n",
    "tfidf_vectorizer = TfidfVectorizer(ngram_range=(1,1), min_df=2)\n",
    "tfidf_matrix = tfidf_vectorizer.fit_transform(text_data_array)"
   ]
  },
  {
   "cell_type": "code",
   "execution_count": 74,
   "metadata": {},
   "outputs": [
    {
     "name": "stdout",
     "output_type": "stream",
     "text": [
      "Number of features 6580\n"
     ]
    }
   ],
   "source": [
    "# Get feature names\n",
    "feature_names = tfidf_vectorizer.get_feature_names()\n",
    "print(\"Number of features %s\" % len(feature_names))"
   ]
  },
  {
   "cell_type": "code",
   "execution_count": 91,
   "metadata": {},
   "outputs": [],
   "source": [
    "# create df from our tfidf matrix\n",
    "tfidf_df = pd.DataFrame(tfidf_matrix.todense(), columns = feature_names)\n",
    "tfidf_df['Title'] = titles"
   ]
  },
  {
   "cell_type": "code",
   "execution_count": 92,
   "metadata": {},
   "outputs": [],
   "source": [
    "tfidf_df.to_pickle('Pickles/tfidf_df.pkl')"
   ]
  }
 ],
 "metadata": {
  "kernelspec": {
   "display_name": "Python 3",
   "language": "python",
   "name": "python3"
  },
  "language_info": {
   "codemirror_mode": {
    "name": "ipython",
    "version": 3
   },
   "file_extension": ".py",
   "mimetype": "text/x-python",
   "name": "python",
   "nbconvert_exporter": "python",
   "pygments_lexer": "ipython3",
   "version": "3.7.3"
  }
 },
 "nbformat": 4,
 "nbformat_minor": 4
}
