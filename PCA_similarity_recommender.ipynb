{
 "cells": [
  {
   "cell_type": "markdown",
   "metadata": {},
   "source": [
    "# Use PCA to reduce the dimensionality of our dataset to enable better similarity ratings"
   ]
  },
  {
   "cell_type": "code",
   "execution_count": 1,
   "metadata": {},
   "outputs": [],
   "source": [
    "# import necessary libraries\n",
    "import pandas as pd\n",
    "import matplotlib.pyplot as plt\n",
    "\n",
    "from sklearn.metrics.pairwise import cosine_similarity"
   ]
  },
  {
   "cell_type": "code",
   "execution_count": 2,
   "metadata": {},
   "outputs": [
    {
     "data": {
      "text/plain": [
       "(1708, 11229)"
      ]
     },
     "execution_count": 2,
     "metadata": {},
     "output_type": "execute_result"
    }
   ],
   "source": [
    "# I acquired this dataset myself from the IMDB website using a selenium webscraper\n",
    "svd_df = pd.read_pickle('Pickles/tfidf_df.pkl')\n",
    "actor_df = pd.read_pickle('Pickles/actor_df.pkl')\n",
    "director_df = pd.read_pickle('Pickles/director_df.pkl')\n",
    "genre_df = pd.read_pickle('Pickles/genre_df.pkl')\n",
    "prodcom_df = pd.read_pickle('Pickles/prodcom_df.pkl')\n",
    "\n",
    "df = pd.merge(svd_df, genre_df, on='Title', how='outer')\n",
    "df = pd.merge(df, director_df, on='Title', how='outer')\n",
    "df = pd.merge(df, actor_df, on='Title', how='outer')\n",
    "df = pd.merge(df, prodcom_df, on='Title', how='outer')\n",
    "df.shape"
   ]
  },
  {
   "cell_type": "code",
   "execution_count": 3,
   "metadata": {},
   "outputs": [
    {
     "data": {
      "text/html": [
       "<div>\n",
       "<style scoped>\n",
       "    .dataframe tbody tr th:only-of-type {\n",
       "        vertical-align: middle;\n",
       "    }\n",
       "\n",
       "    .dataframe tbody tr th {\n",
       "        vertical-align: top;\n",
       "    }\n",
       "\n",
       "    .dataframe thead th {\n",
       "        text-align: right;\n",
       "    }\n",
       "</style>\n",
       "<table border=\"1\" class=\"dataframe\">\n",
       "  <thead>\n",
       "    <tr style=\"text-align: right;\">\n",
       "      <th></th>\n",
       "      <th>00</th>\n",
       "      <th>007</th>\n",
       "      <th>10</th>\n",
       "      <th>100</th>\n",
       "      <th>1000</th>\n",
       "      <th>100000</th>\n",
       "      <th>10th</th>\n",
       "      <th>11</th>\n",
       "      <th>12</th>\n",
       "      <th>127</th>\n",
       "      <th>...</th>\n",
       "      <th>Uncharted</th>\n",
       "      <th>Smart Egg Pictures</th>\n",
       "      <th>Rogue</th>\n",
       "      <th>Produzioni De</th>\n",
       "      <th>Big Beach Films</th>\n",
       "      <th>Appian Way</th>\n",
       "      <th>LBI Entertainment</th>\n",
       "      <th>Matten Productions</th>\n",
       "      <th>Cinergi Pictures Entertainment</th>\n",
       "      <th>Savvy Media Holdings</th>\n",
       "    </tr>\n",
       "  </thead>\n",
       "  <tbody>\n",
       "    <tr>\n",
       "      <th>0</th>\n",
       "      <td>0.0</td>\n",
       "      <td>0.0</td>\n",
       "      <td>0.0</td>\n",
       "      <td>0.0</td>\n",
       "      <td>0.0</td>\n",
       "      <td>0.0</td>\n",
       "      <td>0.0</td>\n",
       "      <td>0.0</td>\n",
       "      <td>0.0</td>\n",
       "      <td>0.0</td>\n",
       "      <td>...</td>\n",
       "      <td>0</td>\n",
       "      <td>0</td>\n",
       "      <td>0</td>\n",
       "      <td>0</td>\n",
       "      <td>0</td>\n",
       "      <td>0</td>\n",
       "      <td>0</td>\n",
       "      <td>0</td>\n",
       "      <td>0</td>\n",
       "      <td>0</td>\n",
       "    </tr>\n",
       "  </tbody>\n",
       "</table>\n",
       "<p>1 rows × 11229 columns</p>\n",
       "</div>"
      ],
      "text/plain": [
       "    00  007   10  100  1000  100000  10th   11   12  127  ...  Uncharted  \\\n",
       "0  0.0  0.0  0.0  0.0   0.0     0.0   0.0  0.0  0.0  0.0  ...          0   \n",
       "\n",
       "   Smart Egg Pictures  Rogue  Produzioni De  Big Beach Films  Appian Way  \\\n",
       "0                   0      0              0                0           0   \n",
       "\n",
       "   LBI Entertainment  Matten Productions  Cinergi Pictures Entertainment  \\\n",
       "0                  0                   0                               0   \n",
       "\n",
       "   Savvy Media Holdings  \n",
       "0                     0  \n",
       "\n",
       "[1 rows x 11229 columns]"
      ]
     },
     "execution_count": 3,
     "metadata": {},
     "output_type": "execute_result"
    }
   ],
   "source": [
    "df.head(1)"
   ]
  },
  {
   "cell_type": "code",
   "execution_count": 17,
   "metadata": {},
   "outputs": [
    {
     "data": {
      "text/plain": [
       "(1708, 100)"
      ]
     },
     "execution_count": 17,
     "metadata": {},
     "output_type": "execute_result"
    }
   ],
   "source": [
    "from sklearn.decomposition import PCA\n",
    "\n",
    "titles = df['Title']\n",
    "temp = df.loc[:, df.columns != 'Title']\n",
    "\n",
    "pca = PCA(n_components=100).fit(temp.T) # fit PCA on all our features\n",
    "\n",
    "pca_df = pd.DataFrame(pca.components_.T) # create df from components\n",
    "\n",
    "# write this dataframe to a pickle\n",
    "temp = pca_df.copy()\n",
    "temp.columns = temp.columns.astype(str)\n",
    "temp['Title'] = titles\n",
    "temp.to_pickle('Pickles/pca_100_df.pkl')\n",
    "\n",
    "pca_df.shape"
   ]
  },
  {
   "cell_type": "code",
   "execution_count": 5,
   "metadata": {},
   "outputs": [
    {
     "data": {
      "text/plain": [
       "(1708, 1708)"
      ]
     },
     "execution_count": 5,
     "metadata": {},
     "output_type": "execute_result"
    }
   ],
   "source": [
    "cos_sim_matrix = cosine_similarity(pca_df, pca_df) # create similarity matrix from df\n",
    "cos_sim_matrix.shape"
   ]
  },
  {
   "cell_type": "code",
   "execution_count": 6,
   "metadata": {},
   "outputs": [],
   "source": [
    "cos_sim_df = pd.DataFrame(cos_sim_matrix, columns = titles) # create new df from our similarity matrix\n",
    "cos_sim_df['Title'] = titles"
   ]
  },
  {
   "cell_type": "markdown",
   "metadata": {},
   "source": [
    "# Show most similar movies to any given movie using all features"
   ]
  },
  {
   "cell_type": "code",
   "execution_count": 7,
   "metadata": {},
   "outputs": [],
   "source": [
    "def display_top_movies(movie_title, n_movies, similarity_matrix_df):\n",
    "    \n",
    "    ordered_index_series = similarity_matrix_df[movie_title].sort_values(ascending=False) # access the movie's column and sort the values in it\n",
    "    \n",
    "    top_series = ordered_index_series[1:n_movies+1] # remove the first value, it is the similarity to itself (1)\n",
    "\n",
    "    print(movie_title, '\\n---------------------------------------')\n",
    "    for i,v in top_series.items(): # iterate through items in series, print movie title and similarity to our chosen movie\n",
    "        print((similarity_matrix_df.iloc[i]['Title']).ljust(40,' '), ' :', round(v, 4))\n",
    "        "
   ]
  },
  {
   "cell_type": "code",
   "execution_count": 8,
   "metadata": {},
   "outputs": [
    {
     "name": "stdout",
     "output_type": "stream",
     "text": [
      "Toy Story 2 (1999) \n",
      "---------------------------------------\n",
      "Toy Story (1995)                          : 0.9944\n",
      "Toy Story 3 (2010)                        : 0.9861\n",
      "Brave (2012)                              : 0.6045\n",
      "Ratatouille (2007)                        : 0.5481\n",
      "A Bug's Life (1998)                       : 0.5129\n",
      "Up (2009)                                 : 0.5068\n",
      "Coco (2017)                               : 0.4684\n",
      "WALL·E (2008)                             : 0.4512\n",
      "You've Got Mail (1998)                    : 0.4352\n",
      "Monsters, Inc. (2001)                     : 0.4333\n"
     ]
    }
   ],
   "source": [
    "display_top_movies(movie_title = 'Toy Story 2 (1999)',\n",
    "                   n_movies = 10,\n",
    "                   similarity_matrix_df = cos_sim_df)"
   ]
  },
  {
   "cell_type": "code",
   "execution_count": 9,
   "metadata": {},
   "outputs": [
    {
     "name": "stdout",
     "output_type": "stream",
     "text": [
      "Avengers: Endgame (2019) \n",
      "---------------------------------------\n",
      "Avengers: Infinity War (2018)             : 0.9653\n",
      "Captain America: Civil War (2016)         : 0.8307\n",
      "Avengers: Age of Ultron (2015)            : 0.8076\n",
      "Avengers Assemble (2012)                  : 0.6471\n",
      "Captain America: The Winter Soldier (2014)  : 0.5265\n",
      "Wind River (2017)                         : 0.5264\n",
      "Don Jon (2013)                            : 0.4228\n",
      "Her (2013)                                : 0.3774\n",
      "Ghost World (2001)                        : 0.3606\n",
      "Match Point (2005)                        : 0.3242\n"
     ]
    }
   ],
   "source": [
    "display_top_movies(movie_title = 'Avengers: Endgame (2019)',\n",
    "                   n_movies = 10,\n",
    "                   similarity_matrix_df = cos_sim_df)"
   ]
  },
  {
   "cell_type": "code",
   "execution_count": 10,
   "metadata": {},
   "outputs": [
    {
     "name": "stdout",
     "output_type": "stream",
     "text": [
      "Pulp Fiction (1994) \n",
      "---------------------------------------\n",
      "Jackie Brown (1997)                       : 0.7252\n",
      "Hostage (2005)                            : 0.6866\n",
      "Kill Bill: Vol. 2 (2004)                  : 0.675\n",
      "Kill Bill: Vol. 1 (2003)                  : 0.671\n",
      "Fight Club (1999)                         : 0.5152\n",
      "Die Hard: With a Vengeance (1995)         : 0.5023\n",
      "Unbreakable (2000)                        : 0.4528\n",
      "There Will Be Blood (2007)                : 0.443\n",
      "Chocolat (2000)                           : 0.4374\n",
      "The Hateful Eight (2015)                  : 0.4358\n"
     ]
    }
   ],
   "source": [
    "display_top_movies(movie_title = 'Pulp Fiction (1994)',\n",
    "                   n_movies = 10,\n",
    "                   similarity_matrix_df = cos_sim_df)"
   ]
  },
  {
   "cell_type": "code",
   "execution_count": 11,
   "metadata": {},
   "outputs": [
    {
     "name": "stdout",
     "output_type": "stream",
     "text": [
      "Harry Potter and the Half-Blood Prince (2009) \n",
      "---------------------------------------\n",
      "Harry Potter and the Chamber of Secrets (2002)  : 0.7625\n",
      "Harry Potter and the Order of the Phoenix (2007)  : 0.7532\n",
      "Harry Potter and the Goblet of Fire (2005)  : 0.7449\n",
      "Harry Potter and the Deathly Hallows: Part 2 (2011)  : 0.7338\n",
      "Harry Potter and the Deathly Hallows: Part 1 (2010)  : 0.7318\n",
      "Harry Potter and the Prisoner of Azkaban (2004)  : 0.6504\n",
      "In Time (2011)                            : 0.4688\n",
      "The Girl Next Door (2004)                 : 0.4542\n",
      "Assassin's Creed (2016)                   : 0.4492\n",
      "Harry Potter and the Philosopher's Stone (2001)  : 0.4422\n"
     ]
    }
   ],
   "source": [
    "display_top_movies(movie_title = 'Harry Potter and the Half-Blood Prince (2009)',\n",
    "                   n_movies = 10,\n",
    "                   similarity_matrix_df = cos_sim_df)"
   ]
  },
  {
   "cell_type": "code",
   "execution_count": 18,
   "metadata": {},
   "outputs": [
    {
     "name": "stdout",
     "output_type": "stream",
     "text": [
      "The Social Network (2010) \n",
      "---------------------------------------\n",
      "The Girl with the Dragon Tattoo (2011)    : 0.5792\n",
      "Moneyball (2011)                          : 0.5609\n",
      "Captain Phillips (2013)                   : 0.5494\n",
      "Steve Jobs (2015)                         : 0.4974\n",
      "Under the Skin (2013)                     : 0.4902\n",
      "Zombieland (2009)                         : 0.4862\n",
      "Mystic River (2003)                       : 0.4826\n",
      "Before Sunset (2004)                      : 0.4804\n",
      "The Pursuit of Happyness (2006)           : 0.4804\n",
      "Doubt (2008)                              : 0.467\n"
     ]
    }
   ],
   "source": [
    "display_top_movies(movie_title = 'The Social Network (2010)',\n",
    "                   n_movies = 10,\n",
    "                   similarity_matrix_df = cos_sim_df)"
   ]
  },
  {
   "cell_type": "markdown",
   "metadata": {},
   "source": [
    "- ## Our reduced features seem to be giving more accurate reflections of similarity"
   ]
  },
  {
   "cell_type": "code",
   "execution_count": null,
   "metadata": {},
   "outputs": [],
   "source": []
  }
 ],
 "metadata": {
  "kernelspec": {
   "display_name": "Python 3",
   "language": "python",
   "name": "python3"
  },
  "language_info": {
   "codemirror_mode": {
    "name": "ipython",
    "version": 3
   },
   "file_extension": ".py",
   "mimetype": "text/x-python",
   "name": "python",
   "nbconvert_exporter": "python",
   "pygments_lexer": "ipython3",
   "version": "3.7.3"
  }
 },
 "nbformat": 4,
 "nbformat_minor": 4
}
